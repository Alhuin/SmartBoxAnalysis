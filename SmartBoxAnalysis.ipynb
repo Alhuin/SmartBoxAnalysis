{
 "cells": [
  {
   "cell_type": "markdown",
   "id": "98dba6ac",
   "metadata": {},
   "source": [
    "## Read and Clean data"
   ]
  },
  {
   "cell_type": "code",
   "execution_count": 2,
   "id": "194afaa9",
   "metadata": {},
   "outputs": [
    {
     "name": "stdout",
     "output_type": "stream",
     "text": [
      "Index(['Category', 'Id', 'Name', 'Type', 'SubType', 'Region', 'Location',\n",
      "       'Additional Services', 'Price', 'Sales', 'Views', 'Quantity',\n",
      "       'Sales Last Year', 'Views Last Year', 'Quantity Last Year'],\n",
      "      dtype='object')\n",
      "<class 'pandas.core.frame.DataFrame'>\n",
      "RangeIndex: 479 entries, 0 to 478\n",
      "Data columns (total 15 columns):\n",
      " #   Column               Non-Null Count  Dtype  \n",
      "---  ------               --------------  -----  \n",
      " 0   Category             479 non-null    string \n",
      " 1   Id                   479 non-null    int64  \n",
      " 2   Name                 479 non-null    string \n",
      " 3   Type                 479 non-null    string \n",
      " 4   SubType              156 non-null    string \n",
      " 5   Region               242 non-null    string \n",
      " 6   Location             295 non-null    string \n",
      " 7   Additional Services  25 non-null     string \n",
      " 8   Price                479 non-null    float64\n",
      " 9   Sales                479 non-null    float64\n",
      " 10  Views                479 non-null    float64\n",
      " 11  Quantity             479 non-null    float64\n",
      " 12  Sales Last Year      479 non-null    float64\n",
      " 13  Views Last Year      479 non-null    float64\n",
      " 14  Quantity Last Year   479 non-null    float64\n",
      "dtypes: float64(7), int64(1), string(7)\n",
      "memory usage: 56.3 KB\n"
     ]
    }
   ],
   "source": [
    "import numpy as np\n",
    "import pandas as pd\n",
    "import matplotlib.pyplot as plt\n",
    "\n",
    "%matplotlib inline\n",
    "names = [\n",
    "    \"Cathegorie\",\n",
    "    \"P\"\n",
    "]\n",
    "sales = pd.read_csv(\"data.csv\", usecols=[\n",
    "    \"Product ID\",\n",
    "    \"Product Name\",\n",
    "    \"Cathegorie\",\n",
    "    \"Product Type\",\n",
    "    \"SubProduct Type\",\n",
    "    \"region\",\n",
    "    \"Where\",\n",
    "    \"Additional Services\",\n",
    "    \"Unit price \",\n",
    "    \"Sales\",\n",
    "    \"Quantity\",\n",
    "    \"Sales Last Year\",\n",
    "    \"Views\",\n",
    "    \"Views Last Year\",\n",
    "    \"Quantity Last Year\"\n",
    "])\n",
    "\n",
    "def sanitize_numbers(df):\n",
    "    return pd.to_numeric(df.str.replace('Rs.||\\s|€|-','', regex=True).str.replace(',', '.')).replace(np.nan, 0)\n",
    "\n",
    "sales = sales.rename(columns={\n",
    "    \"Unit price \": \"Price\",\n",
    "    \"Product Name\": \"Name\",\n",
    "    \"Product ID\": \"Id\",\n",
    "    \"region\": \"Region\",\n",
    "    \"Cathegorie\": \"Category\",\n",
    "    \"Product Type\": \"Type\",\n",
    "    \"SubProduct Type\": \"SubType\",\n",
    "    \"Where\": \"Location\",\n",
    "})\n",
    "\n",
    "print(sales.columns)\n",
    "sales[\"Price\"] = sanitize_numbers(sales[\"Price\"])\n",
    "sales[\"Sales\"] = sanitize_numbers(sales[\"Sales\"])\n",
    "sales[\"Sales Last Year\"] = sanitize_numbers(sales[\"Sales Last Year\"])\n",
    "sales[\"Views\"] = sanitize_numbers(sales[\"Views\"])\n",
    "sales[\"Views Last Year\"] = sanitize_numbers(sales[\"Views Last Year\"])\n",
    "sales[\"Views Last Year\"] = sales[\"Views Last Year\"]\n",
    "sales[\"Quantity\"] = sanitize_numbers(sales[\"Quantity\"])\n",
    "sales[\"Quantity Last Year\"] = sanitize_numbers(sales[\"Quantity Last Year\"])\n",
    "sales[\"Name\"] = sales[\"Name\"].astype(\"string\")\n",
    "sales[\"Category\"] = sales[\"Category\"].astype(\"string\")\n",
    "sales[\"Type\"] = sales[\"Type\"].astype(\"string\")\n",
    "sales[\"SubType\"] = sales[\"SubType\"].astype(\"string\")\n",
    "sales[\"Region\"] = sales[\"Region\"].astype(\"string\")\n",
    "sales[\"Location\"] = sales[\"Location\"].astype(\"string\")\n",
    "sales[\"Additional Services\"] = sales[\"Additional Services\"].astype(\"string\")\n",
    "\n",
    "sales.info()"
   ]
  },
  {
   "cell_type": "markdown",
   "source": [
    "\n",
    "## Basic description"
   ],
   "metadata": {
    "collapsed": false
   }
  },
  {
   "cell_type": "code",
   "execution_count": 4,
   "id": "f1f50782",
   "metadata": {},
   "outputs": [
    {
     "data": {
      "text/plain": "             Price          Sales         Views     Quantity  Sales Last Year  \\\ncount   479.000000     479.000000    479.000000   479.000000       479.000000   \nmean    371.962630    3417.973486    631.177453    17.139875      1733.129958   \nstd     633.333879   17987.235829   3104.479209    87.996216      9544.780526   \nmin      29.900000       0.000000      0.000000     0.000000         0.000000   \n25%     154.450000       0.000000     22.000000     0.000000         0.000000   \n50%     215.900000     221.550000     82.000000     1.000000         0.000000   \n75%     359.400000    1098.940000    296.500000     6.000000       457.665000   \nmax    7531.900000  227698.100000  56225.000000  1519.000000    130537.920000   \n\n       Views Last Year  Quantity Last Year  \ncount       479.000000          479.000000  \nmean        606.592902            9.200418  \nstd        3427.975840           52.401467  \nmin           0.000000            0.000000  \n25%           0.000000            0.000000  \n50%          42.000000            0.000000  \n75%         295.500000            2.000000  \nmax       61171.000000          871.000000  ",
      "text/html": "<div>\n<style scoped>\n    .dataframe tbody tr th:only-of-type {\n        vertical-align: middle;\n    }\n\n    .dataframe tbody tr th {\n        vertical-align: top;\n    }\n\n    .dataframe thead th {\n        text-align: right;\n    }\n</style>\n<table border=\"1\" class=\"dataframe\">\n  <thead>\n    <tr style=\"text-align: right;\">\n      <th></th>\n      <th>Price</th>\n      <th>Sales</th>\n      <th>Views</th>\n      <th>Quantity</th>\n      <th>Sales Last Year</th>\n      <th>Views Last Year</th>\n      <th>Quantity Last Year</th>\n    </tr>\n  </thead>\n  <tbody>\n    <tr>\n      <th>count</th>\n      <td>479.000000</td>\n      <td>479.000000</td>\n      <td>479.000000</td>\n      <td>479.000000</td>\n      <td>479.000000</td>\n      <td>479.000000</td>\n      <td>479.000000</td>\n    </tr>\n    <tr>\n      <th>mean</th>\n      <td>371.962630</td>\n      <td>3417.973486</td>\n      <td>631.177453</td>\n      <td>17.139875</td>\n      <td>1733.129958</td>\n      <td>606.592902</td>\n      <td>9.200418</td>\n    </tr>\n    <tr>\n      <th>std</th>\n      <td>633.333879</td>\n      <td>17987.235829</td>\n      <td>3104.479209</td>\n      <td>87.996216</td>\n      <td>9544.780526</td>\n      <td>3427.975840</td>\n      <td>52.401467</td>\n    </tr>\n    <tr>\n      <th>min</th>\n      <td>29.900000</td>\n      <td>0.000000</td>\n      <td>0.000000</td>\n      <td>0.000000</td>\n      <td>0.000000</td>\n      <td>0.000000</td>\n      <td>0.000000</td>\n    </tr>\n    <tr>\n      <th>25%</th>\n      <td>154.450000</td>\n      <td>0.000000</td>\n      <td>22.000000</td>\n      <td>0.000000</td>\n      <td>0.000000</td>\n      <td>0.000000</td>\n      <td>0.000000</td>\n    </tr>\n    <tr>\n      <th>50%</th>\n      <td>215.900000</td>\n      <td>221.550000</td>\n      <td>82.000000</td>\n      <td>1.000000</td>\n      <td>0.000000</td>\n      <td>42.000000</td>\n      <td>0.000000</td>\n    </tr>\n    <tr>\n      <th>75%</th>\n      <td>359.400000</td>\n      <td>1098.940000</td>\n      <td>296.500000</td>\n      <td>6.000000</td>\n      <td>457.665000</td>\n      <td>295.500000</td>\n      <td>2.000000</td>\n    </tr>\n    <tr>\n      <th>max</th>\n      <td>7531.900000</td>\n      <td>227698.100000</td>\n      <td>56225.000000</td>\n      <td>1519.000000</td>\n      <td>130537.920000</td>\n      <td>61171.000000</td>\n      <td>871.000000</td>\n    </tr>\n  </tbody>\n</table>\n</div>"
     },
     "execution_count": 4,
     "metadata": {},
     "output_type": "execute_result"
    }
   ],
   "source": [
    "sales.describe(exclude=[\"int64\", \"string\"])"
   ]
  },
  {
   "cell_type": "markdown",
   "source": [
    "### Analyse Globale"
   ],
   "metadata": {
    "collapsed": false
   }
  },
  {
   "cell_type": "markdown",
   "source": [
    "### Price"
   ],
   "metadata": {
    "collapsed": false
   }
  },
  {
   "cell_type": "code",
   "execution_count": 9,
   "outputs": [
    {
     "name": "stdout",
     "output_type": "stream",
     "text": [
      "- Prix moyen d'une prestation: 371.96 euros\n",
      "- Prix le plus bas: 29.9 euros\n",
      "- Prix le plus haut: 7531.9 euros\n"
     ]
    }
   ],
   "source": [
    "print(f\"- Prix moyen d'une prestation: {format(sales['Price'].mean(), '.2f')} euros\")\n",
    "print(f\"- Prix le plus bas: {sales['Price'].min()} euros\")\n",
    "print(f\"- Prix le plus haut: {sales['Price'].max()} euros\")"
   ],
   "metadata": {
    "collapsed": false
   }
  },
  {
   "cell_type": "markdown",
   "source": [
    "### Sales"
   ],
   "metadata": {
    "collapsed": false
   }
  },
  {
   "cell_type": "code",
   "execution_count": 14,
   "id": "faed27ca",
   "metadata": {},
   "outputs": [
    {
     "name": "stdout",
     "output_type": "stream",
     "text": [
      "- Ventes de l'anneée dernière: 830169.25 euros\n",
      "- Ventes de l'anneée: 1637209.30 euros\n",
      "- 50.71% d'évolution des ventes sur l'année\n"
     ]
    }
   ],
   "source": [
    "last_year_sales = sales[\"Sales Last Year\"].sum()\n",
    "year_sales = sales[\"Sales\"].sum()\n",
    "\n",
    "print(f\"- Total des ventes de l'anneée dernière: {format(last_year_sales, '.2f')} euros\")\n",
    "print(f\"- Total des ventes de l'année: {format(year_sales, '.2f')} euros\")\n",
    "print(f'- {format(last_year_sales * 100 / year_sales, \".2f\")}% d\\'évolution des ventes sur l\\'année')"
   ]
  },
  {
   "cell_type": "markdown",
   "source": [
    "### Views"
   ],
   "metadata": {
    "collapsed": false
   }
  },
  {
   "cell_type": "markdown",
   "source": [
    "##### Total"
   ],
   "metadata": {
    "collapsed": false
   }
  },
  {
   "cell_type": "code",
   "execution_count": 19,
   "outputs": [
    {
     "name": "stdout",
     "output_type": "stream",
     "text": [
      "- Total de views de l'anneée dernière: 302334.0\n",
      "- Total des views de l'année: 302334.00\n",
      "- 100.00% d'évolution des views sur l'année\n"
     ]
    }
   ],
   "source": [
    "last_year_views = sales[\"Views\"].sum()\n",
    "year_views = sales[\"Views\"].sum()\n",
    "\n",
    "print(f\"- Total de views de l'anneée dernière: {last_year_views}\")\n",
    "print(f\"- Total des views de l'année: {format(year_views, '.2f')}\")\n",
    "print(f'- {format(last_year_views * 100 / year_views, \".2f\")}% d\\'évolution des views sur l\\'année')"
   ],
   "metadata": {
    "collapsed": false
   }
  },
  {
   "cell_type": "code",
   "execution_count": null,
   "outputs": [],
   "source": [],
   "metadata": {
    "collapsed": false
   }
  }
 ],
 "metadata": {
  "kernelspec": {
   "display_name": "Python 3 (ipykernel)",
   "language": "python",
   "name": "python3"
  },
  "language_info": {
   "codemirror_mode": {
    "name": "ipython",
    "version": 3
   },
   "file_extension": ".py",
   "mimetype": "text/x-python",
   "name": "python",
   "nbconvert_exporter": "python",
   "pygments_lexer": "ipython3",
   "version": "3.9.6"
  }
 },
 "nbformat": 4,
 "nbformat_minor": 5
}
