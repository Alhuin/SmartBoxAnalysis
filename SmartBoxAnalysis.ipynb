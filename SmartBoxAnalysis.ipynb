{
 "cells": [
  {
   "cell_type": "markdown",
   "source": [
    "## Read and Clean data"
   ],
   "metadata": {
    "collapsed": false
   }
  },
  {
   "cell_type": "code",
   "execution_count": 97,
   "id": "194afaa9",
   "metadata": {},
   "outputs": [
    {
     "name": "stdout",
     "output_type": "stream",
     "text": [
      "<class 'pandas.core.frame.DataFrame'>\n",
      "RangeIndex: 479 entries, 0 to 478\n",
      "Data columns (total 9 columns):\n",
      " #   Column              Non-Null Count  Dtype  \n",
      "---  ------              --------------  -----  \n",
      " 0   Id                  479 non-null    int64  \n",
      " 1   Name                479 non-null    string \n",
      " 2   Price               479 non-null    float64\n",
      " 3   Sales               263 non-null    float64\n",
      " 4   Sales Last Year     175 non-null    float64\n",
      " 5   Views               429 non-null    float64\n",
      " 6   Views Last Year     252 non-null    float64\n",
      " 7   Quantity            263 non-null    float64\n",
      " 8   Quantity Last Year  175 non-null    float64\n",
      "dtypes: float64(7), int64(1), string(1)\n",
      "memory usage: 33.8 KB\n"
     ]
    }
   ],
   "source": [
    "import numpy as np\n",
    "import pandas as pd\n",
    "import matplotlib.pyplot as plt\n",
    "\n",
    "%matplotlib inline\n",
    "\n",
    "sales = pd.read_csv(\"data.csv\")\n",
    "\n",
    "def sanitize_numbers(df):\n",
    "    df.str.replace('-', '')\n",
    "    return pd.to_numeric(df.str.replace('Rs.||\\s|€|-','', regex=True).str.replace(',', '.'))\n",
    "\n",
    "\n",
    "sales = sales.rename(columns={\n",
    "    \"Price = competitor analys price \": \"Price\",\n",
    "    \"Product Name\": \"Name\",\n",
    "    \"Product ID\": \"Id\",\n",
    "})\n",
    "sales[\"Price\"] = sanitize_numbers(sales[\"Price\"])\n",
    "sales[\"Sales\"] = sanitize_numbers(sales[\"Sales\"])\n",
    "sales[\"Sales Last Year\"] = sanitize_numbers(sales[\"Sales Last Year\"])\n",
    "sales[\"Views\"] = sanitize_numbers(sales[\"Views\"])\n",
    "sales[\"Views Last Year\"] = sanitize_numbers(sales[\"Views Last Year\"])\n",
    "sales[\"Quantity\"] = sanitize_numbers(sales[\"Quantity\"])\n",
    "sales[\"Quantity Last Year\"] = sanitize_numbers(sales[\"Quantity Last Year\"])\n",
    "sales[\"Name\"] = sales[\"Name\"].astype(\"string\")\n",
    "\n",
    "sales.info()"
   ]
  },
  {
   "cell_type": "markdown",
   "source": [
    "## Basic description"
   ],
   "metadata": {
    "collapsed": false
   }
  },
  {
   "cell_type": "code",
   "execution_count": 96,
   "outputs": [
    {
     "data": {
      "text/plain": "        Id                                               Name  Price  \\\n0  1257666              Vol en Montgolfière en France pour un  149.9   \n1  1270458  Vol en montgolfière avec dégustation et visite...  389.9   \n2  1259281           Vol en Montgolfière en semaine pour deux  289.9   \n3  1458497  Vol en montgolfi?re d?1h au-dessus des ch?teau...  289.9   \n4  1458485  Vol en montgolfi?re d'1h en duo au-dessus des ...  359.9   \n\n       Sales  Sales Last Year    Views  Views Last Year  Quantity  \\\n0  227698.10        130537.92  56225.0          61171.0    1519.0   \n1  218344.00         67907.58  13500.0           6566.0     560.0   \n2  167079.03        113544.17  19928.0          26616.0     576.0   \n3  113302.58              NaN   8388.0              NaN     391.0   \n4   63822.27              NaN   3829.0              NaN     177.0   \n\n   Quantity Last Year  \n0               871.0  \n1               174.0  \n2               392.0  \n3                 NaN  \n4                 NaN  ",
      "text/html": "<div>\n<style scoped>\n    .dataframe tbody tr th:only-of-type {\n        vertical-align: middle;\n    }\n\n    .dataframe tbody tr th {\n        vertical-align: top;\n    }\n\n    .dataframe thead th {\n        text-align: right;\n    }\n</style>\n<table border=\"1\" class=\"dataframe\">\n  <thead>\n    <tr style=\"text-align: right;\">\n      <th></th>\n      <th>Id</th>\n      <th>Name</th>\n      <th>Price</th>\n      <th>Sales</th>\n      <th>Sales Last Year</th>\n      <th>Views</th>\n      <th>Views Last Year</th>\n      <th>Quantity</th>\n      <th>Quantity Last Year</th>\n    </tr>\n  </thead>\n  <tbody>\n    <tr>\n      <th>0</th>\n      <td>1257666</td>\n      <td>Vol en Montgolfière en France pour un</td>\n      <td>149.9</td>\n      <td>227698.10</td>\n      <td>130537.92</td>\n      <td>56225.0</td>\n      <td>61171.0</td>\n      <td>1519.0</td>\n      <td>871.0</td>\n    </tr>\n    <tr>\n      <th>1</th>\n      <td>1270458</td>\n      <td>Vol en montgolfière avec dégustation et visite...</td>\n      <td>389.9</td>\n      <td>218344.00</td>\n      <td>67907.58</td>\n      <td>13500.0</td>\n      <td>6566.0</td>\n      <td>560.0</td>\n      <td>174.0</td>\n    </tr>\n    <tr>\n      <th>2</th>\n      <td>1259281</td>\n      <td>Vol en Montgolfière en semaine pour deux</td>\n      <td>289.9</td>\n      <td>167079.03</td>\n      <td>113544.17</td>\n      <td>19928.0</td>\n      <td>26616.0</td>\n      <td>576.0</td>\n      <td>392.0</td>\n    </tr>\n    <tr>\n      <th>3</th>\n      <td>1458497</td>\n      <td>Vol en montgolfi?re d?1h au-dessus des ch?teau...</td>\n      <td>289.9</td>\n      <td>113302.58</td>\n      <td>NaN</td>\n      <td>8388.0</td>\n      <td>NaN</td>\n      <td>391.0</td>\n      <td>NaN</td>\n    </tr>\n    <tr>\n      <th>4</th>\n      <td>1458485</td>\n      <td>Vol en montgolfi?re d'1h en duo au-dessus des ...</td>\n      <td>359.9</td>\n      <td>63822.27</td>\n      <td>NaN</td>\n      <td>3829.0</td>\n      <td>NaN</td>\n      <td>177.0</td>\n      <td>NaN</td>\n    </tr>\n  </tbody>\n</table>\n</div>"
     },
     "execution_count": 96,
     "metadata": {},
     "output_type": "execute_result"
    }
   ],
   "source": [
    "sales.head()"
   ],
   "metadata": {
    "collapsed": false
   }
  },
  {
   "cell_type": "code",
   "execution_count": null,
   "outputs": [],
   "source": [],
   "metadata": {
    "collapsed": false
   }
  }
 ],
 "metadata": {
  "kernelspec": {
   "display_name": "Python 3 (ipykernel)",
   "language": "python",
   "name": "python3"
  },
  "language_info": {
   "codemirror_mode": {
    "name": "ipython",
    "version": 3
   },
   "file_extension": ".py",
   "mimetype": "text/x-python",
   "name": "python",
   "nbconvert_exporter": "python",
   "pygments_lexer": "ipython3",
   "version": "3.9.6"
  }
 },
 "nbformat": 4,
 "nbformat_minor": 5
}
